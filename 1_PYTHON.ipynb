{
  "nbformat": 4,
  "nbformat_minor": 0,
  "metadata": {
    "colab": {
      "name": "1.PYTHON.ipynb",
      "provenance": [],
      "collapsed_sections": [],
      "authorship_tag": "ABX9TyPTtfhALRBMSnEFQQTmWDUM",
      "include_colab_link": true
    },
    "kernelspec": {
      "name": "python3",
      "display_name": "Python 3"
    },
    "language_info": {
      "name": "python"
    }
  },
  "cells": [
    {
      "cell_type": "markdown",
      "metadata": {
        "id": "view-in-github",
        "colab_type": "text"
      },
      "source": [
        "<a href=\"https://colab.research.google.com/github/LIMSONA/30min_summary_study/blob/main/1_PYTHON.ipynb\" target=\"_parent\"><img src=\"https://colab.research.google.com/assets/colab-badge.svg\" alt=\"Open In Colab\"/></a>"
      ]
    },
    {
      "cell_type": "code",
      "metadata": {
        "colab": {
          "base_uri": "https://localhost:8080/"
        },
        "id": "S4EcYbZWFX5c",
        "outputId": "f699d521-24cd-4bf3-a873-8de3e7b250bb"
      },
      "source": [
        "n='one two three'\n",
        "a=n.split()\n",
        "print(a)\n",
        "b='!'.join(a)\n",
        "print(b)"
      ],
      "execution_count": 1,
      "outputs": [
        {
          "output_type": "stream",
          "name": "stdout",
          "text": [
            "['one', 'two', 'three']\n",
            "one!two!three\n"
          ]
        }
      ]
    },
    {
      "cell_type": "code",
      "metadata": {
        "colab": {
          "base_uri": "https://localhost:8080/"
        },
        "id": "zIKi99cCFje2",
        "outputId": "c9f89f88-51bc-4949-8417-c064625ad2ef"
      },
      "source": [
        "print('제 이름은 {}입니다. 제 나이는{}입니다.'.format('푸린',31))"
      ],
      "execution_count": 2,
      "outputs": [
        {
          "output_type": "stream",
          "name": "stdout",
          "text": [
            "제 이름은 푸린입니다. 제 나이는31입니다.\n"
          ]
        }
      ]
    },
    {
      "cell_type": "code",
      "metadata": {
        "colab": {
          "base_uri": "https://localhost:8080/"
        },
        "id": "X47T8gIWFlbR",
        "outputId": "a57988b1-14e3-4e30-e5c1-dadbaeb01ae9"
      },
      "source": [
        "a=2021\n",
        "b=11\n",
        "c=22\n",
        "\n",
        "#2021/11/22 원함\n",
        "print(a,b,c, sep='/', end=' ')\n",
        "print(a,b,c)"
      ],
      "execution_count": 3,
      "outputs": [
        {
          "output_type": "stream",
          "name": "stdout",
          "text": [
            "2021/11/22 2021 11 22\n"
          ]
        }
      ]
    },
    {
      "cell_type": "code",
      "metadata": {
        "colab": {
          "base_uri": "https://localhost:8080/"
        },
        "id": "sC3mpSjGFmmM",
        "outputId": "5a8491b4-873e-48e0-ef43-38da05415894"
      },
      "source": [
        "# 클래스\n",
        "\n",
        "class Car():\n",
        "    maxspped=300\n",
        "    maxpeople=5\n",
        "    def start(self):\n",
        "        print('출발')\n",
        "    def stop(self):\n",
        "        print('정지')\n",
        "    def __str__(self): \n",
        "        return 'hello world'\n",
        "    def __init__(self):\n",
        "        print ('인스턴스가 만들어졌습니다')\n",
        "        \n",
        "k9=Car()\n",
        "print(k9.maxpeople)\n",
        "\n",
        "class Hybrid(Car):\n",
        "    battery=1000\n",
        "    battryKM=300\n",
        "    \n",
        "k3=Hybrid()\n",
        "print(k9) "
      ],
      "execution_count": 4,
      "outputs": [
        {
          "output_type": "stream",
          "name": "stdout",
          "text": [
            "인스턴스가 만들어졌습니다\n",
            "5\n",
            "인스턴스가 만들어졌습니다\n",
            "hello world\n"
          ]
        }
      ]
    }
  ]
}