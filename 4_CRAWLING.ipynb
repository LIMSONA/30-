{
  "nbformat": 4,
  "nbformat_minor": 0,
  "metadata": {
    "colab": {
      "name": "4.CRAWLING.ipynb",
      "provenance": [],
      "collapsed_sections": [],
      "mount_file_id": "1vPVErXYLlbV1Jgv7mFWobh9SQrVNEQjp",
      "authorship_tag": "ABX9TyPESzQVxu/8+OgCGyAPU0ZP",
      "include_colab_link": true
    },
    "kernelspec": {
      "name": "python3",
      "display_name": "Python 3"
    },
    "language_info": {
      "name": "python"
    }
  },
  "cells": [
    {
      "cell_type": "markdown",
      "metadata": {
        "id": "view-in-github",
        "colab_type": "text"
      },
      "source": [
        "<a href=\"https://colab.research.google.com/github/LIMSONA/30min_summary_study/blob/main/4_CRAWLING.ipynb\" target=\"_parent\"><img src=\"https://colab.research.google.com/assets/colab-badge.svg\" alt=\"Open In Colab\"/></a>"
      ]
    },
    {
      "cell_type": "markdown",
      "metadata": {
        "id": "N2r3sqXklKpP"
      },
      "source": [
        "# **Crawling**\n",
        "\n",
        "---\n",
        "\n"
      ]
    },
    {
      "cell_type": "markdown",
      "metadata": {
        "id": "Bth5LEkTn9GQ"
      },
      "source": [
        "## 필요 패키지 및 설치"
      ]
    },
    {
      "cell_type": "markdown",
      "metadata": {
        "id": "8FrerEXOohKK"
      },
      "source": [
        "**필요패키지**\n",
        "\n",
        "- (필수) pip3 install BeautifulSoup4 or pip3 install bs4\n",
        "- (필수) pip3 install requests\n",
        "- (필수) pip3 install pandas\n",
        "- (필수) pip3 install plotly\n",
        "- (선택) pip3 install lxml"
      ]
    },
    {
      "cell_type": "code",
      "metadata": {
        "colab": {
          "base_uri": "https://localhost:8080/"
        },
        "id": "3onyZEoIoeVq",
        "outputId": "10f04c31-f94a-4faf-ba28-b41312ab91b0"
      },
      "source": [
        "!pip3 install beautifulsoup4"
      ],
      "execution_count": 1,
      "outputs": [
        {
          "output_type": "stream",
          "name": "stdout",
          "text": [
            "Requirement already satisfied: beautifulsoup4 in /usr/local/lib/python3.7/dist-packages (4.6.3)\n"
          ]
        }
      ]
    },
    {
      "cell_type": "code",
      "metadata": {
        "colab": {
          "base_uri": "https://localhost:8080/"
        },
        "id": "rH___0w7oeTb",
        "outputId": "e349fbfb-4813-410d-be42-b33febbc0646"
      },
      "source": [
        "!pip3 install requests"
      ],
      "execution_count": 2,
      "outputs": [
        {
          "output_type": "stream",
          "name": "stdout",
          "text": [
            "Requirement already satisfied: requests in /usr/local/lib/python3.7/dist-packages (2.23.0)\n",
            "Requirement already satisfied: idna<3,>=2.5 in /usr/local/lib/python3.7/dist-packages (from requests) (2.10)\n",
            "Requirement already satisfied: certifi>=2017.4.17 in /usr/local/lib/python3.7/dist-packages (from requests) (2021.10.8)\n",
            "Requirement already satisfied: chardet<4,>=3.0.2 in /usr/local/lib/python3.7/dist-packages (from requests) (3.0.4)\n",
            "Requirement already satisfied: urllib3!=1.25.0,!=1.25.1,<1.26,>=1.21.1 in /usr/local/lib/python3.7/dist-packages (from requests) (1.24.3)\n"
          ]
        }
      ]
    },
    {
      "cell_type": "code",
      "metadata": {
        "colab": {
          "base_uri": "https://localhost:8080/"
        },
        "id": "5UJ4v2hBoeQ6",
        "outputId": "85406457-fce0-4e6c-e8eb-a695ff389191"
      },
      "source": [
        "!pip3 install plotly"
      ],
      "execution_count": 3,
      "outputs": [
        {
          "output_type": "stream",
          "name": "stdout",
          "text": [
            "Requirement already satisfied: plotly in /usr/local/lib/python3.7/dist-packages (4.4.1)\n",
            "Requirement already satisfied: six in /usr/local/lib/python3.7/dist-packages (from plotly) (1.15.0)\n",
            "Requirement already satisfied: retrying>=1.3.3 in /usr/local/lib/python3.7/dist-packages (from plotly) (1.3.3)\n"
          ]
        }
      ]
    },
    {
      "cell_type": "code",
      "metadata": {
        "colab": {
          "base_uri": "https://localhost:8080/"
        },
        "id": "WBfCvUFJoeOS",
        "outputId": "feb3c7d2-1483-4593-e3c9-5cdbbd673277"
      },
      "source": [
        "!pip3 install lxml"
      ],
      "execution_count": 4,
      "outputs": [
        {
          "output_type": "stream",
          "name": "stdout",
          "text": [
            "Requirement already satisfied: lxml in /usr/local/lib/python3.7/dist-packages (4.2.6)\n"
          ]
        }
      ]
    },
    {
      "cell_type": "code",
      "metadata": {
        "colab": {
          "base_uri": "https://localhost:8080/"
        },
        "id": "TL72WrdwoeDi",
        "outputId": "ffb9e435-d29a-45b1-bbea-9980a8e494a4"
      },
      "source": [
        "!dir"
      ],
      "execution_count": 5,
      "outputs": [
        {
          "output_type": "stream",
          "name": "stdout",
          "text": [
            "sample_data\n"
          ]
        }
      ]
    },
    {
      "cell_type": "markdown",
      "metadata": {
        "id": "5FbCKTj2oBCp"
      },
      "source": [
        "## URL"
      ]
    },
    {
      "cell_type": "markdown",
      "metadata": {
        "id": "Hf-dCDxWo-r5"
      },
      "source": [
        "- 자원이 어디 있는지를 알려주기 위한 규약\n",
        "- 흔히 웹 사이트 주소로 알고 있지만, URL은 웹 사이트 주소뿐만 아니라 컴퓨터 네트워크상의 자원을 모두 나타낼 수 있음\n",
        "- 그 주소에 접속하려면 해당 URL에 맞는 프로토콜을 알아야 하고, 그와 동일한 프로토콜로 접속(FTP 프로토콜인 경우에는 FTP 클라이언트를 이용해야 하고, HTTP인 경우에는 웹 브라우저를 이용해야 한다. 텔넷의 경우에는 텔넷 프로그램을 이용해서 접속)"
      ]
    },
    {
      "cell_type": "markdown",
      "metadata": {
        "id": "GoP_9tKjpSuJ"
      },
      "source": [
        "실행창에서 nslookup www.naver.com 이라고 치면 네이버의 ip주소 223.130.195.95 나온다."
      ]
    },
    {
      "cell_type": "markdown",
      "metadata": {
        "id": "KXYArr1WoKSK"
      },
      "source": [
        "## HTTP"
      ]
    },
    {
      "cell_type": "markdown",
      "metadata": {
        "id": "SqTBSp5SpLry"
      },
      "source": [
        "- HTML, XML, Javascript, 오디오, 비디오, 이미지, PDF, Etc\n",
        "- 요청 또는 상태 라인 / 해더(생략가능) / 빈줄(해더의 끝) / 바디(생략가능)"
      ]
    },
    {
      "cell_type": "markdown",
      "metadata": {
        "id": "QaZeErUopLD6"
      },
      "source": [
        "### **HTTP 처리방식**\n",
        "\n",
        "- GET : 리소스 취득 (? 뒤에 이어붙이는 방식 - 작은 값들)\n",
        "- POST : 리소스 생성 (Body에 붙이는 방식 - 상대적으로 큰 용량)\n",
        "- PUT : 리소스 수정 요청\n",
        "- DELETE : 리소스 삭제 요청\n",
        "- HEAD : HTTP 헤더 정보만 요청, 해당 자원 존재 여부 확인 목적\n",
        "- OPTIONS : 웹서버가 지원하는 메소드 종류 반환 요청\n",
        "- TRACE : 요청 리소스가 수신되는 경로 확인\n",
        "- CONNECT : 요청 리소스에 대해 양방향 연결 시작"
      ]
    },
    {
      "cell_type": "markdown",
      "metadata": {
        "id": "0d6tSLYDpK0x"
      },
      "source": [
        "### **상태 코드**\n",
        "\n",
        "- 200번대: 성공\n",
        "- 400번대: 요청오류\n",
        "- 500번대: 서버오류\n",
        "\n",
        "\n",
        "- 200 :  서버가 요청을 제대로 처리.\n",
        "- 201 : 성공적으로 요청되었으며 서버가 새 리소스를 작성.\n",
        "- 202 : 서버가 요청을 접수했지만 아직 처리하지 않음.\n",
        "- 301 : 요청한 페이지를 새 위치로 영구적으로 이동.\n",
        "- 403 : 서버가 요청을 거부.\n",
        "- 404 : 서버가 요청한 페이지를 찾을 수 없음.\n",
        "- 500 : 서버에 오류가 발생하여 요청을 수행할 수 없음.\n",
        "- 503 : 서버가 오버로드되었거나 유지관리를 위해 다운되었기 때문에 현재서버 사용 불가."
      ]
    },
    {
      "cell_type": "code",
      "metadata": {
        "id": "rSUp2FCGrjzh"
      },
      "source": [
        "import requests\n",
        "import bs4"
      ],
      "execution_count": 8,
      "outputs": []
    },
    {
      "cell_type": "code",
      "metadata": {
        "colab": {
          "base_uri": "https://localhost:8080/",
          "height": 35
        },
        "id": "xKtpBwQxr0S8",
        "outputId": "dcba24c0-7a48-4150-ee54-7065f3478993"
      },
      "source": [
        "requests.__version__"
      ],
      "execution_count": 9,
      "outputs": [
        {
          "output_type": "execute_result",
          "data": {
            "application/vnd.google.colaboratory.intrinsic+json": {
              "type": "string"
            },
            "text/plain": [
              "'2.23.0'"
            ]
          },
          "metadata": {},
          "execution_count": 9
        }
      ]
    },
    {
      "cell_type": "code",
      "metadata": {
        "colab": {
          "base_uri": "https://localhost:8080/",
          "height": 35
        },
        "id": "C9yxO8Ctr4Vi",
        "outputId": "10ed3d61-33b6-452c-9ab1-ba83bddcf430"
      },
      "source": [
        "bs4.__version__"
      ],
      "execution_count": 10,
      "outputs": [
        {
          "output_type": "execute_result",
          "data": {
            "application/vnd.google.colaboratory.intrinsic+json": {
              "type": "string"
            },
            "text/plain": [
              "'4.6.3'"
            ]
          },
          "metadata": {},
          "execution_count": 10
        }
      ]
    },
    {
      "cell_type": "code",
      "metadata": {
        "colab": {
          "base_uri": "https://localhost:8080/"
        },
        "id": "Q3tQrT8sr83E",
        "outputId": "c75b462b-ccb7-40e0-fd53-d56cc033e099"
      },
      "source": [
        "from datetime import datetime\n",
        "datetime.now()"
      ],
      "execution_count": 11,
      "outputs": [
        {
          "output_type": "execute_result",
          "data": {
            "text/plain": [
              "datetime.datetime(2021, 11, 30, 7, 13, 0, 980483)"
            ]
          },
          "metadata": {},
          "execution_count": 11
        }
      ]
    },
    {
      "cell_type": "markdown",
      "metadata": {
        "id": "rQ-ML4LEoKPp"
      },
      "source": [
        "## REQUEST"
      ]
    },
    {
      "cell_type": "markdown",
      "metadata": {
        "id": "9n0jFQ5Ysg0K"
      },
      "source": [
        "- HTTP 요청을 보내는데 사용하는 라이브러리\n",
        "- .text : str타입의 데이터를 return\n",
        "- .headers : header(key/value 형식으로 데이터 저장)의 내용 확인\n",
        "- .encoding : 인코딩 방식 확인\n",
        "- .status_code : HTTP 요청에 대해서 요청이 성공했는지 실패했는지 혹은 어떤 상태인지 말해줌\n",
        "- .ok : 데이터를 잘 불러오고 있는지 확인"
      ]
    },
    {
      "cell_type": "code",
      "metadata": {
        "colab": {
          "base_uri": "https://localhost:8080/"
        },
        "id": "CUpYe4E7rJWS",
        "outputId": "6421c95a-dc08-4b15-80f6-523df508a901"
      },
      "source": [
        "import requests\n",
        "html= requests.get('http://www.paullab.co.kr/stock.html')\n",
        "html"
      ],
      "execution_count": 30,
      "outputs": [
        {
          "output_type": "execute_result",
          "data": {
            "text/plain": [
              "<Response [200]>"
            ]
          },
          "metadata": {},
          "execution_count": 30
        }
      ]
    },
    {
      "cell_type": "code",
      "metadata": {
        "colab": {
          "base_uri": "https://localhost:8080/",
          "height": 182
        },
        "id": "6ZkpHP8lsqYk",
        "outputId": "eeb5354b-4d6e-43af-bb36-535639a3457c"
      },
      "source": [
        "html.text #한글이 꺠지는 현상"
      ],
      "execution_count": 13,
      "outputs": [
        {
          "output_type": "execute_result",
          "data": {
            "application/vnd.google.colaboratory.intrinsic+json": {
              "type": "string"
            },
            "text/plain": [
              "'<html xmlns=\"http://www.w3.org/1999/xhtml\" xml:lang=\"ko\" lang=\"ko\"><head><meta http-equiv=\"Content-Type\" content=\"text/html; charset=utf-8\" /><style type=\"text/css\">body { width:100%; height:100%; } .wrap { position:fixed; top:50%; left:50%; margin:-185px 0 0 -315px; width:630px; height:370px; } h1 {margin: 0 0 20px; font-size: 15pt;}</style></head><body><script type=\"text/javascript\" src=\"/cupid.js\" ></script><script>function toNumbers(t){var e=[];return t.replace(/(..)/g,function(t){e.push(parseInt(t,16))}),e}function toHex(){for(var t=[],t=1==arguments.length&&arguments[0].constructor==Array?arguments[0]:arguments,e=\"\",o=0;o<t.length;o++)e+=(16>t[o]?\"0\":\"\")+t[o].toString(16);return e.toLowerCase()}function getUrlParams(){var t={};return window.location.search.replace(/[?&]+([^=&]+)=([^&]*)/gi,function(e,o,r){t[o]=r}),t}var a=toNumbers(\"0065ab5e120ce89841349e88488f4acb\"),b=toNumbers(\"94364ba8e905e5aecc42ddc0045fc3c2\"),c=toNumbers(\"5d44bcf68367127e7db8deb3b8f09c24\"),now=new Date,time=now.getTime();time+=864e5,now.setTime(time),document.cookie=\"CUPID=\"+toHex(slowAES.decrypt(c,2,a,b))+\"; expires=\"+now.toUTCString()+\"; path=/\",oParams=getUrlParams(),nCkattempt=0,oParams.ckattempt&&(nCkattempt=parseInt(oParams.ckattempt)),nCkattempt<3&&(location.href=\"http://www.paullab.co.kr/stock.html?ckattempt=1\");</script><div class=\"wrap\"><div align=\"center\"><h1>ì\\x9e\\x90ë\\x8f\\x99ë\\x93±ë¡\\x9dë°©ì§\\x80ë¥¼ ì\\x9c\\x84í\\x95´ ë³´ì\\x95\\x88ì\\xa0\\x88ì°¨ë¥¼ ê±°ì¹\\x98ê³\\xa0 ì\\x9e\\x88ì\\x8aµë\\x8b\\x88ë\\x8b¤.</h1><p>Please prove that you are human.</p><form action=\"/___verify\" method=\"POST\"><input type=\"submit\" value=\"  OK  \"></form></div></div></body></html>'"
            ]
          },
          "metadata": {},
          "execution_count": 13
        }
      ]
    },
    {
      "cell_type": "code",
      "metadata": {
        "colab": {
          "base_uri": "https://localhost:8080/"
        },
        "id": "sLh31o1Jsvvd",
        "outputId": "e72a0b2a-0ab7-4017-944a-934140c9ba51"
      },
      "source": [
        "html.headers"
      ],
      "execution_count": 14,
      "outputs": [
        {
          "output_type": "execute_result",
          "data": {
            "text/plain": [
              "{'Server': 'nginx', 'Date': 'Tue, 30 Nov 2021 07:15:18 GMT', 'Content-Type': 'text/html', 'Transfer-Encoding': 'chunked', 'Connection': 'keep-alive', 'Vary': 'Accept-Encoding', 'Expires': 'Thu, 01 Jan 1970 00:00:01 GMT', 'Cache-Control': 'no-cache', 'Content-Encoding': 'gzip'}"
            ]
          },
          "metadata": {},
          "execution_count": 14
        }
      ]
    },
    {
      "cell_type": "code",
      "metadata": {
        "colab": {
          "base_uri": "https://localhost:8080/"
        },
        "id": "CzUYCefls2Et",
        "outputId": "a723ab6f-b76b-4f52-8732-646097b35bf8"
      },
      "source": [
        "dir(html)"
      ],
      "execution_count": 31,
      "outputs": [
        {
          "output_type": "execute_result",
          "data": {
            "text/plain": [
              "['__attrs__',\n",
              " '__bool__',\n",
              " '__class__',\n",
              " '__delattr__',\n",
              " '__dict__',\n",
              " '__dir__',\n",
              " '__doc__',\n",
              " '__enter__',\n",
              " '__eq__',\n",
              " '__exit__',\n",
              " '__format__',\n",
              " '__ge__',\n",
              " '__getattribute__',\n",
              " '__getstate__',\n",
              " '__gt__',\n",
              " '__hash__',\n",
              " '__init__',\n",
              " '__init_subclass__',\n",
              " '__iter__',\n",
              " '__le__',\n",
              " '__lt__',\n",
              " '__module__',\n",
              " '__ne__',\n",
              " '__new__',\n",
              " '__nonzero__',\n",
              " '__reduce__',\n",
              " '__reduce_ex__',\n",
              " '__repr__',\n",
              " '__setattr__',\n",
              " '__setstate__',\n",
              " '__sizeof__',\n",
              " '__str__',\n",
              " '__subclasshook__',\n",
              " '__weakref__',\n",
              " '_content',\n",
              " '_content_consumed',\n",
              " '_next',\n",
              " 'apparent_encoding',\n",
              " 'close',\n",
              " 'connection',\n",
              " 'content',\n",
              " 'cookies',\n",
              " 'elapsed',\n",
              " 'encoding',\n",
              " 'headers',\n",
              " 'history',\n",
              " 'is_permanent_redirect',\n",
              " 'is_redirect',\n",
              " 'iter_content',\n",
              " 'iter_lines',\n",
              " 'json',\n",
              " 'links',\n",
              " 'next',\n",
              " 'ok',\n",
              " 'raise_for_status',\n",
              " 'raw',\n",
              " 'reason',\n",
              " 'request',\n",
              " 'status_code',\n",
              " 'text',\n",
              " 'url']"
            ]
          },
          "metadata": {},
          "execution_count": 31
        }
      ]
    },
    {
      "cell_type": "code",
      "metadata": {
        "colab": {
          "base_uri": "https://localhost:8080/",
          "height": 35
        },
        "id": "Glc2DgI3s6F-",
        "outputId": "192893a5-73e2-43b3-825c-984ed7e1a011"
      },
      "source": [
        "html.encoding #인코딩방식"
      ],
      "execution_count": 32,
      "outputs": [
        {
          "output_type": "execute_result",
          "data": {
            "application/vnd.google.colaboratory.intrinsic+json": {
              "type": "string"
            },
            "text/plain": [
              "'ISO-8859-1'"
            ]
          },
          "metadata": {},
          "execution_count": 32
        }
      ]
    },
    {
      "cell_type": "code",
      "metadata": {
        "id": "fmODj32es96E"
      },
      "source": [
        "html.encoding='utf-8'"
      ],
      "execution_count": 17,
      "outputs": []
    },
    {
      "cell_type": "code",
      "metadata": {
        "colab": {
          "base_uri": "https://localhost:8080/",
          "height": 274
        },
        "id": "bLdmxOK7tCoP",
        "outputId": "e41de94c-d24a-49e5-8574-df8c47d0f9ef"
      },
      "source": [
        "html.text"
      ],
      "execution_count": 18,
      "outputs": [
        {
          "output_type": "execute_result",
          "data": {
            "application/vnd.google.colaboratory.intrinsic+json": {
              "type": "string"
            },
            "text/plain": [
              "'<html xmlns=\"http://www.w3.org/1999/xhtml\" xml:lang=\"ko\" lang=\"ko\"><head><meta http-equiv=\"Content-Type\" content=\"text/html; charset=utf-8\" /><style type=\"text/css\">body { width:100%; height:100%; } .wrap { position:fixed; top:50%; left:50%; margin:-185px 0 0 -315px; width:630px; height:370px; } h1 {margin: 0 0 20px; font-size: 15pt;}</style></head><body><script type=\"text/javascript\" src=\"/cupid.js\" ></script><script>function toNumbers(t){var e=[];return t.replace(/(..)/g,function(t){e.push(parseInt(t,16))}),e}function toHex(){for(var t=[],t=1==arguments.length&&arguments[0].constructor==Array?arguments[0]:arguments,e=\"\",o=0;o<t.length;o++)e+=(16>t[o]?\"0\":\"\")+t[o].toString(16);return e.toLowerCase()}function getUrlParams(){var t={};return window.location.search.replace(/[?&]+([^=&]+)=([^&]*)/gi,function(e,o,r){t[o]=r}),t}var a=toNumbers(\"0065ab5e120ce89841349e88488f4acb\"),b=toNumbers(\"94364ba8e905e5aecc42ddc0045fc3c2\"),c=toNumbers(\"5d44bcf68367127e7db8deb3b8f09c24\"),now=new Date,time=now.getTime();time+=864e5,now.setTime(time),document.cookie=\"CUPID=\"+toHex(slowAES.decrypt(c,2,a,b))+\"; expires=\"+now.toUTCString()+\"; path=/\",oParams=getUrlParams(),nCkattempt=0,oParams.ckattempt&&(nCkattempt=parseInt(oParams.ckattempt)),nCkattempt<3&&(location.href=\"http://www.paullab.co.kr/stock.html?ckattempt=1\");</script><div class=\"wrap\"><div align=\"center\"><h1>자동등록방지를 위해 보안절차를 거치고 있습니다.</h1><p>Please prove that you are human.</p><form action=\"/___verify\" method=\"POST\"><input type=\"submit\" value=\"  OK  \"></form></div></div></body></html>'"
            ]
          },
          "metadata": {},
          "execution_count": 18
        }
      ]
    },
    {
      "cell_type": "code",
      "metadata": {
        "colab": {
          "base_uri": "https://localhost:8080/"
        },
        "id": "0CHdYutVtFJU",
        "outputId": "07ba8cd9-7224-4020-ba6d-bb1ec5fdc1d6"
      },
      "source": [
        "html.status_code #요청 성공실패여부"
      ],
      "execution_count": 33,
      "outputs": [
        {
          "output_type": "execute_result",
          "data": {
            "text/plain": [
              "200"
            ]
          },
          "metadata": {},
          "execution_count": 33
        }
      ]
    },
    {
      "cell_type": "code",
      "metadata": {
        "colab": {
          "base_uri": "https://localhost:8080/"
        },
        "id": "xmNQK0pOtOIJ",
        "outputId": "52ecebd7-05c2-4043-d625-cd0a4731c4b6"
      },
      "source": [
        "html.ok"
      ],
      "execution_count": 34,
      "outputs": [
        {
          "output_type": "execute_result",
          "data": {
            "text/plain": [
              "True"
            ]
          },
          "metadata": {},
          "execution_count": 34
        }
      ]
    },
    {
      "cell_type": "markdown",
      "metadata": {
        "id": "HA3lQawbvNnu"
      },
      "source": [
        "### requests를 이용한 크롤링"
      ]
    },
    {
      "cell_type": "code",
      "metadata": {
        "id": "wzuc52BGuOHI"
      },
      "source": [
        "import requests\n",
        "import bs4"
      ],
      "execution_count": 39,
      "outputs": []
    },
    {
      "cell_type": "code",
      "metadata": {
        "id": "T8DJIk2qu0JK"
      },
      "source": [
        "from bs4 import BeautifulSoup"
      ],
      "execution_count": 41,
      "outputs": []
    },
    {
      "cell_type": "code",
      "metadata": {
        "id": "gWCXMEs2tWcp"
      },
      "source": [
        "response=requests.get('http://www.paullab.co.kr/stock.html')\n",
        "response.encoding='utf-8'\n",
        "html=response.text\n",
        "\n",
        "soup= BeautifulSoup(html, 'html.parser') # 원하는 문자열로 잘라줌"
      ],
      "execution_count": 42,
      "outputs": []
    },
    {
      "cell_type": "code",
      "metadata": {
        "colab": {
          "base_uri": "https://localhost:8080/"
        },
        "id": "UTrAAeAKuENp",
        "outputId": "94c23916-57bc-4bc1-9c44-d471acf7e98b"
      },
      "source": [
        "print(soup.prettify) # html 문서형식으로 출력"
      ],
      "execution_count": 58,
      "outputs": [
        {
          "output_type": "stream",
          "name": "stdout",
          "text": [
            "<bound method Tag.prettify of <html lang=\"ko\" xml:lang=\"ko\" xmlns=\"http://www.w3.org/1999/xhtml\"><head><meta content=\"text/html; charset=utf-8\" http-equiv=\"Content-Type\"/><style type=\"text/css\">body { width:100%; height:100%; } .wrap { position:fixed; top:50%; left:50%; margin:-185px 0 0 -315px; width:630px; height:370px; } h1 {margin: 0 0 20px; font-size: 15pt;}</style></head><body><script src=\"/cupid.js\" type=\"text/javascript\"></script><script>function toNumbers(t){var e=[];return t.replace(/(..)/g,function(t){e.push(parseInt(t,16))}),e}function toHex(){for(var t=[],t=1==arguments.length&&arguments[0].constructor==Array?arguments[0]:arguments,e=\"\",o=0;o<t.length;o++)e+=(16>t[o]?\"0\":\"\")+t[o].toString(16);return e.toLowerCase()}function getUrlParams(){var t={};return window.location.search.replace(/[?&]+([^=&]+)=([^&]*)/gi,function(e,o,r){t[o]=r}),t}var a=toNumbers(\"46a9dd2e5883911b8a6d8679242d9efa\"),b=toNumbers(\"377bab6c2ebd341d71e7a35815707fec\"),c=toNumbers(\"7462aff5cedbd26efce39bd954107e94\"),now=new Date,time=now.getTime();time+=864e5,now.setTime(time),document.cookie=\"CUPID=\"+toHex(slowAES.decrypt(c,2,a,b))+\"; expires=\"+now.toUTCString()+\"; path=/\",oParams=getUrlParams(),nCkattempt=0,oParams.ckattempt&&(nCkattempt=parseInt(oParams.ckattempt)),nCkattempt<3&&(location.href=\"http://www.paullab.co.kr/stock.html?ckattempt=1\");</script><div class=\"wrap\"><div align=\"center\"><h1>자동등록방지를 위해 보안절차를 거치고 있습니다.</h1><p>Please prove that you are human.</p><form action=\"/___verify\" method=\"POST\"><input type=\"submit\" value=\"  OK  \"/></form></div></div></body></html>>\n"
          ]
        }
      ]
    },
    {
      "cell_type": "markdown",
      "metadata": {
        "id": "1xkJ7rejvjBE"
      },
      "source": [
        "### 특정 페이지의 소스코드를 파일로 저장"
      ]
    },
    {
      "cell_type": "code",
      "metadata": {
        "colab": {
          "base_uri": "https://localhost:8080/"
        },
        "id": "abuHLy3IuByJ",
        "outputId": "14ba3c1a-3ca6-4af8-eb3c-7da7ee74fb62"
      },
      "source": [
        "!dir drive/MyDrive"
      ],
      "execution_count": 54,
      "outputs": [
        {
          "output_type": "stream",
          "name": "stdout",
          "text": [
            "이코테\t파이썬~머신러닝  30분요약시리즈  Colab\\ Notebooks\n"
          ]
        }
      ]
    },
    {
      "cell_type": "code",
      "metadata": {
        "id": "GdHU-RsHvfCi"
      },
      "source": [
        "# import requests\n",
        "# from bs4 import BeautifulSoup\n",
        "\n",
        "# response = requests.get('http://www.paullab.co.kr/stock.html')\n",
        "# response.encoding = 'utf-8'\n",
        "# html = response.text\n",
        "# url 코드를 파일로 저장\n",
        "\n",
        "f = open('drive/MyDrive/test.html', 'w', encoding='utf-8')\n",
        "f.write(html)\n",
        "f.close()"
      ],
      "execution_count": 57,
      "outputs": []
    },
    {
      "cell_type": "markdown",
      "metadata": {
        "id": "KiO_PeDh0fZJ"
      },
      "source": [
        "## **BeautifulSoup**"
      ]
    },
    {
      "cell_type": "markdown",
      "metadata": {
        "id": "Tq78bRe40fMZ"
      },
      "source": [
        "- str타입의 html 데이터를 html 구조를 가진 데이터로 가공해주는 라이브러리\n",
        "- BeautifulSoup(markup, \"html.parser\")\n",
        "- BeautifulSoup(markup, \"lxml\")\n",
        "- BeautifulSoup(markup, \"lxml-xml\") BeautifulSoup(markup, \"xml\")\n",
        "- BeautifulSoup(markup, \"html5lib\")"
      ]
    }
  ]
}