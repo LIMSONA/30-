{
  "nbformat": 4,
  "nbformat_minor": 0,
  "metadata": {
    "colab": {
      "name": "2.NUMPY_PANDAS_VISUALIZATION.ipynb",
      "provenance": [],
      "collapsed_sections": [
        "Bn2JBj9I33ce",
        "mZNT1R9J4ZHe",
        "eAybIvhv4cIe",
        "iD52qmvC9dFO",
        "2Wb0om8O9JA5",
        "r544YgIRDmx2"
      ],
      "mount_file_id": "1l7BGDSABnV5Bl3NSLAJfII_vpXnINiac",
      "authorship_tag": "ABX9TyPbop2vUNoC7SYcxBg0DSpR",
      "include_colab_link": true
    },
    "kernelspec": {
      "name": "python3",
      "display_name": "Python 3"
    },
    "language_info": {
      "name": "python"
    }
  },
  "cells": [
    {
      "cell_type": "markdown",
      "metadata": {
        "id": "view-in-github",
        "colab_type": "text"
      },
      "source": [
        "<a href=\"https://colab.research.google.com/github/LIMSONA/30min_summary_study/blob/main/2_NUMPY_PANDAS_VISUALIZATION.ipynb\" target=\"_parent\"><img src=\"https://colab.research.google.com/assets/colab-badge.svg\" alt=\"Open In Colab\"/></a>"
      ]
    },
    {
      "cell_type": "markdown",
      "metadata": {
        "id": "jJ6_tSLJ4TdX"
      },
      "source": [
        "# **NUMPY**"
      ]
    },
    {
      "cell_type": "markdown",
      "metadata": {
        "id": "ETFWgxt576N6"
      },
      "source": [
        "## 기초"
      ]
    },
    {
      "cell_type": "code",
      "metadata": {
        "colab": {
          "base_uri": "https://localhost:8080/"
        },
        "id": "7JuDV8RrG3yq",
        "outputId": "c91044f4-1d2f-4873-c856-177559799c2c"
      },
      "source": [
        "import numpy as np\n",
        "data = [[1,2,3],[4,5,6],[7,8,9]]\n",
        "\n",
        "a=np.array(data)\n",
        "print(a)"
      ],
      "execution_count": 2,
      "outputs": [
        {
          "output_type": "stream",
          "name": "stdout",
          "text": [
            "[[1 2 3]\n",
            " [4 5 6]\n",
            " [7 8 9]]\n"
          ]
        }
      ]
    },
    {
      "cell_type": "code",
      "metadata": {
        "id": "0PnaPQKCHF08",
        "colab": {
          "base_uri": "https://localhost:8080/"
        },
        "outputId": "6f2a9797-ca0d-4cf5-8178-b131945c2c7d"
      },
      "source": [
        "a.dtype #형태 확인"
      ],
      "execution_count": 5,
      "outputs": [
        {
          "output_type": "execute_result",
          "data": {
            "text/plain": [
              "dtype('int64')"
            ]
          },
          "metadata": {},
          "execution_count": 5
        }
      ]
    },
    {
      "cell_type": "code",
      "metadata": {
        "colab": {
          "base_uri": "https://localhost:8080/"
        },
        "id": "DpcQ_acV1mA0",
        "outputId": "21bf32c6-568a-4b94-9dd2-1705037a68cf"
      },
      "source": [
        "data_2=[[1,2.0,3.0],[4,5,6]] #하나를 소수로 바꿔주면\n",
        "b=np.array(data_2)\n",
        "print(b)"
      ],
      "execution_count": 7,
      "outputs": [
        {
          "output_type": "stream",
          "name": "stdout",
          "text": [
            "[[1. 2. 3.]\n",
            " [4. 5. 6.]]\n"
          ]
        }
      ]
    },
    {
      "cell_type": "code",
      "metadata": {
        "colab": {
          "base_uri": "https://localhost:8080/"
        },
        "id": "bhC7XARv14zf",
        "outputId": "256c2540-99c5-452e-c189-a3403183fe4c"
      },
      "source": [
        "b.dtype"
      ],
      "execution_count": 8,
      "outputs": [
        {
          "output_type": "execute_result",
          "data": {
            "text/plain": [
              "dtype('float64')"
            ]
          },
          "metadata": {},
          "execution_count": 8
        }
      ]
    },
    {
      "cell_type": "markdown",
      "metadata": {
        "id": "Bn2JBj9I33ce"
      },
      "source": [
        "### 형 변환하기\n",
        "\n",
        "* np.astype( )"
      ]
    },
    {
      "cell_type": "code",
      "metadata": {
        "colab": {
          "base_uri": "https://localhost:8080/"
        },
        "id": "lXQgQ3S72Bli",
        "outputId": "aa6c8b67-3e1a-48ea-bb77-805f60b722d6"
      },
      "source": [
        "#형변환 .astype( )\n",
        "a = a . astype(np.float32)  #동일식 a = a . astype('float32')"
      ],
      "execution_count": 13,
      "outputs": [
        {
          "output_type": "execute_result",
          "data": {
            "text/plain": [
              "array([[1., 2., 3.],\n",
              "       [4., 5., 6.],\n",
              "       [7., 8., 9.]], dtype=float32)"
            ]
          },
          "metadata": {},
          "execution_count": 13
        }
      ]
    },
    {
      "cell_type": "code",
      "metadata": {
        "colab": {
          "base_uri": "https://localhost:8080/"
        },
        "id": "C1Qi66HB2jjd",
        "outputId": "69be9555-5e19-4f3b-ad11-51c23a3206bb"
      },
      "source": [
        "a[0][1]"
      ],
      "execution_count": 14,
      "outputs": [
        {
          "output_type": "execute_result",
          "data": {
            "text/plain": [
              "2.0"
            ]
          },
          "metadata": {},
          "execution_count": 14
        }
      ]
    },
    {
      "cell_type": "code",
      "metadata": {
        "colab": {
          "base_uri": "https://localhost:8080/"
        },
        "id": "GUd8x3o12mi1",
        "outputId": "d58968b1-2bac-40aa-ae4e-66370c9329ce"
      },
      "source": [
        "a[0]"
      ],
      "execution_count": 15,
      "outputs": [
        {
          "output_type": "execute_result",
          "data": {
            "text/plain": [
              "array([1., 2., 3.], dtype=float32)"
            ]
          },
          "metadata": {},
          "execution_count": 15
        }
      ]
    },
    {
      "cell_type": "markdown",
      "metadata": {
        "id": "mZNT1R9J4ZHe"
      },
      "source": [
        "### 배열\n",
        "\n",
        "\n",
        "* np.arange(start, stop, step) : step에 따라 증가하는 수열을 생성한다.\n",
        "* reshape : 만들어진 배열의 데이터를 그대로 가지고 형태를 바꿔준다."
      ]
    },
    {
      "cell_type": "code",
      "metadata": {
        "colab": {
          "base_uri": "https://localhost:8080/"
        },
        "id": "EMVdPHqM2nrh",
        "outputId": "99694992-53af-41b3-e341-cf50559645f7"
      },
      "source": [
        "#.arange만들기 .arrange (시작, 끝, 스텝)\n",
        "np.arange(1,10,2)"
      ],
      "execution_count": 18,
      "outputs": [
        {
          "output_type": "execute_result",
          "data": {
            "text/plain": [
              "array([1, 3, 5, 7, 9])"
            ]
          },
          "metadata": {},
          "execution_count": 18
        }
      ]
    },
    {
      "cell_type": "code",
      "metadata": {
        "colab": {
          "base_uri": "https://localhost:8080/"
        },
        "id": "juuVJT7321wy",
        "outputId": "981d99de-c8c7-49ec-cf66-48189e1e8330"
      },
      "source": [
        "#형태 만들기 reshape( )\n",
        "#-> 갯수 꼭 맞춰서 reshape 하기!\n",
        "np.arange(1,10).reshape(3,3)  "
      ],
      "execution_count": 20,
      "outputs": [
        {
          "output_type": "execute_result",
          "data": {
            "text/plain": [
              "array([[1, 2, 3],\n",
              "       [4, 5, 6],\n",
              "       [7, 8, 9]])"
            ]
          },
          "metadata": {},
          "execution_count": 20
        }
      ]
    },
    {
      "cell_type": "code",
      "metadata": {
        "colab": {
          "base_uri": "https://localhost:8080/"
        },
        "id": "U-5jwNv83PFp",
        "outputId": "f0a924f6-cec4-43a7-d994-ee8a34f4500c"
      },
      "source": [
        "np.arange(1,13).reshape(3,2,2)"
      ],
      "execution_count": 22,
      "outputs": [
        {
          "output_type": "execute_result",
          "data": {
            "text/plain": [
              "array([[[ 1,  2],\n",
              "        [ 3,  4]],\n",
              "\n",
              "       [[ 5,  6],\n",
              "        [ 7,  8]],\n",
              "\n",
              "       [[ 9, 10],\n",
              "        [11, 12]]])"
            ]
          },
          "metadata": {},
          "execution_count": 22
        }
      ]
    },
    {
      "cell_type": "markdown",
      "metadata": {
        "id": "eAybIvhv4cIe"
      },
      "source": [
        "### 결측값\n",
        "\n",
        "* np.nan\n",
        "- 자료형 Float형일대만 사용가능 \n",
        "- 자료형 Int에서는 오류가 발생한다.\n",
        "- 배열에서 연산할 경우 오류가 발생하지 않지만, 결과값이 NaN이 된다."
      ]
    },
    {
      "cell_type": "code",
      "metadata": {
        "colab": {
          "base_uri": "https://localhost:8080/"
        },
        "id": "-aA5kAdI3Szb",
        "outputId": "f0bd8c63-dbcb-408d-98be-a431fe13e5df"
      },
      "source": [
        "#결측값 \n",
        "np.nan *10"
      ],
      "execution_count": 24,
      "outputs": [
        {
          "output_type": "execute_result",
          "data": {
            "text/plain": [
              "nan"
            ]
          },
          "metadata": {},
          "execution_count": 24
        }
      ]
    },
    {
      "cell_type": "code",
      "metadata": {
        "colab": {
          "base_uri": "https://localhost:8080/"
        },
        "id": "a_WF2H0p3Za-",
        "outputId": "7208c00f-bb9b-4973-f29c-365442c46571"
      },
      "source": [
        "a[0][1]=np.nan\n",
        "a"
      ],
      "execution_count": 27,
      "outputs": [
        {
          "output_type": "execute_result",
          "data": {
            "text/plain": [
              "array([[ 1., nan,  3.],\n",
              "       [ 4.,  5.,  6.],\n",
              "       [ 7.,  8.,  9.]], dtype=float32)"
            ]
          },
          "metadata": {},
          "execution_count": 27
        }
      ]
    },
    {
      "cell_type": "code",
      "metadata": {
        "colab": {
          "base_uri": "https://localhost:8080/"
        },
        "id": "_S5mbadi3jhq",
        "outputId": "17853f66-3b9e-4d25-c699-cf200efbcc1a"
      },
      "source": [
        "c= np.arange(1,10).reshape(3,3)  \n",
        "c"
      ],
      "execution_count": 34,
      "outputs": [
        {
          "output_type": "execute_result",
          "data": {
            "text/plain": [
              "array([[1, 2, 3],\n",
              "       [4, 5, 6],\n",
              "       [7, 8, 9]])"
            ]
          },
          "metadata": {},
          "execution_count": 34
        }
      ]
    },
    {
      "cell_type": "code",
      "metadata": {
        "colab": {
          "base_uri": "https://localhost:8080/",
          "height": 172
        },
        "id": "iTGsdQZe45TQ",
        "outputId": "bf19eb50-8404-49be-ab13-a2cdb82da7e9"
      },
      "source": [
        "c[0][1]=np.nan    #int형이여서 오류가 뜸"
      ],
      "execution_count": 35,
      "outputs": [
        {
          "output_type": "error",
          "ename": "ValueError",
          "evalue": "ignored",
          "traceback": [
            "\u001b[0;31m---------------------------------------------------------------------------\u001b[0m",
            "\u001b[0;31mValueError\u001b[0m                                Traceback (most recent call last)",
            "\u001b[0;32m<ipython-input-35-2c0349a8e04c>\u001b[0m in \u001b[0;36m<module>\u001b[0;34m()\u001b[0m\n\u001b[0;32m----> 1\u001b[0;31m \u001b[0mc\u001b[0m\u001b[0;34m[\u001b[0m\u001b[0;36m0\u001b[0m\u001b[0;34m]\u001b[0m\u001b[0;34m[\u001b[0m\u001b[0;36m1\u001b[0m\u001b[0;34m]\u001b[0m\u001b[0;34m=\u001b[0m\u001b[0mnp\u001b[0m\u001b[0;34m.\u001b[0m\u001b[0mnan\u001b[0m    \u001b[0;31m#int형이여서 오류가 뜸\u001b[0m\u001b[0;34m\u001b[0m\u001b[0;34m\u001b[0m\u001b[0m\n\u001b[0m",
            "\u001b[0;31mValueError\u001b[0m: cannot convert float NaN to integer"
          ]
        }
      ]
    },
    {
      "cell_type": "markdown",
      "metadata": {
        "id": "9cPbVJTW7Nc3"
      },
      "source": [
        "### 값 입력\n",
        "\n",
        "* np.linspace( 시작, 끝, 몇 개를 생성할지)"
      ]
    },
    {
      "cell_type": "code",
      "metadata": {
        "colab": {
          "base_uri": "https://localhost:8080/"
        },
        "id": "djDvm6Lc3eA_",
        "outputId": "f11d64a5-f83d-439b-967b-e3c82955a06d"
      },
      "source": [
        "a=np.linspace(1,10,20)\n",
        "a"
      ],
      "execution_count": 36,
      "outputs": [
        {
          "output_type": "execute_result",
          "data": {
            "text/plain": [
              "array([ 1.        ,  1.47368421,  1.94736842,  2.42105263,  2.89473684,\n",
              "        3.36842105,  3.84210526,  4.31578947,  4.78947368,  5.26315789,\n",
              "        5.73684211,  6.21052632,  6.68421053,  7.15789474,  7.63157895,\n",
              "        8.10526316,  8.57894737,  9.05263158,  9.52631579, 10.        ])"
            ]
          },
          "metadata": {},
          "execution_count": 36
        }
      ]
    },
    {
      "cell_type": "markdown",
      "metadata": {
        "id": "gxeO2jz38Wwz"
      },
      "source": [
        "## 연산\n",
        "\n",
        "* 반복문을 사용하지 않아도,  배열의 모든 원소는 반복연산이 사용된다.\n",
        "*  선형 대수 식을 사용하여 연산 가능하다.\n"
      ]
    },
    {
      "cell_type": "markdown",
      "metadata": {
        "id": "iD52qmvC9dFO"
      },
      "source": [
        "### 사칙연산"
      ]
    },
    {
      "cell_type": "code",
      "metadata": {
        "colab": {
          "base_uri": "https://localhost:8080/"
        },
        "id": "-R3GObi_8jPj",
        "outputId": "35230abb-bafc-495e-bbcd-74a2c32df4ed"
      },
      "source": [
        "data=np.arange(1,10).reshape(3,3)\n",
        "data"
      ],
      "execution_count": 37,
      "outputs": [
        {
          "output_type": "execute_result",
          "data": {
            "text/plain": [
              "array([[1, 2, 3],\n",
              "       [4, 5, 6],\n",
              "       [7, 8, 9]])"
            ]
          },
          "metadata": {},
          "execution_count": 37
        }
      ]
    },
    {
      "cell_type": "code",
      "metadata": {
        "colab": {
          "base_uri": "https://localhost:8080/"
        },
        "id": "hnOdqQ1W8w9-",
        "outputId": "65145249-507e-41e1-9398-a13ac4f9f0a0"
      },
      "source": [
        "# 각 원소 더하기\n",
        "data + data "
      ],
      "execution_count": 39,
      "outputs": [
        {
          "output_type": "execute_result",
          "data": {
            "text/plain": [
              "array([[ 2,  4,  6],\n",
              "       [ 8, 10, 12],\n",
              "       [14, 16, 18]])"
            ]
          },
          "metadata": {},
          "execution_count": 39
        }
      ]
    },
    {
      "cell_type": "code",
      "metadata": {
        "colab": {
          "base_uri": "https://localhost:8080/"
        },
        "id": "XiDV8U3282rm",
        "outputId": "875a058e-4cf9-41a7-ec08-8701a3dd6426"
      },
      "source": [
        "##파이썬과 비교!!\n",
        "[1,2,3] + [4,5,6]"
      ],
      "execution_count": 41,
      "outputs": [
        {
          "output_type": "execute_result",
          "data": {
            "text/plain": [
              "[1, 2, 3, 4, 5, 6]"
            ]
          },
          "metadata": {},
          "execution_count": 41
        }
      ]
    },
    {
      "cell_type": "code",
      "metadata": {
        "colab": {
          "base_uri": "https://localhost:8080/"
        },
        "id": "bdBTcfXx9MXQ",
        "outputId": "bd421d68-9d74-45a0-cf49-6eb4ec402e2a"
      },
      "source": [
        "# 각 원소 뺴기\n",
        "data - data"
      ],
      "execution_count": 44,
      "outputs": [
        {
          "output_type": "execute_result",
          "data": {
            "text/plain": [
              "array([[0, 0, 0],\n",
              "       [0, 0, 0],\n",
              "       [0, 0, 0]])"
            ]
          },
          "metadata": {},
          "execution_count": 44
        }
      ]
    },
    {
      "cell_type": "code",
      "metadata": {
        "colab": {
          "base_uri": "https://localhost:8080/"
        },
        "id": "TWmvgHbJ89Rf",
        "outputId": "26e2a0f5-4456-4418-a4fb-25758762e7dc"
      },
      "source": [
        "# 각 원소 곱하기\n",
        "data * data"
      ],
      "execution_count": 42,
      "outputs": [
        {
          "output_type": "execute_result",
          "data": {
            "text/plain": [
              "array([[ 1,  4,  9],\n",
              "       [16, 25, 36],\n",
              "       [49, 64, 81]])"
            ]
          },
          "metadata": {},
          "execution_count": 42
        }
      ]
    },
    {
      "cell_type": "code",
      "metadata": {
        "colab": {
          "base_uri": "https://localhost:8080/"
        },
        "id": "Cg1XCQ9a9GGJ",
        "outputId": "b45a91ed-05a2-4053-c73c-46797b14e35b"
      },
      "source": [
        "# 각 원소 나누기 \n",
        "data / data"
      ],
      "execution_count": 43,
      "outputs": [
        {
          "output_type": "execute_result",
          "data": {
            "text/plain": [
              "array([[1., 1., 1.],\n",
              "       [1., 1., 1.],\n",
              "       [1., 1., 1.]])"
            ]
          },
          "metadata": {},
          "execution_count": 43
        }
      ]
    },
    {
      "cell_type": "markdown",
      "metadata": {
        "id": "2Wb0om8O9JA5"
      },
      "source": [
        "###행렬의 곱하기 하고 싶으면!"
      ]
    },
    {
      "cell_type": "markdown",
      "metadata": {
        "id": "Tsky7aKE-Dnf"
      },
      "source": [
        "* 행렬 곱 구하는 연산 방법2가지\n",
        "  1. np.dot( )\n",
        "  2. @"
      ]
    },
    {
      "cell_type": "markdown",
      "metadata": {
        "id": "Y1oUDDHN_DA7"
      },
      "source": [
        "  * 행렬 곱하는 방법 : 말그대로 행과 열의 곱하기\n",
        "    * 1행*1열(첫번째x첫번째 + 두번째x두번째+.......) \n",
        "    * 2행*2열(첫번째x첫번째 + .........)\n",
        "    * ............"
      ]
    },
    {
      "cell_type": "code",
      "metadata": {
        "colab": {
          "base_uri": "https://localhost:8080/"
        },
        "id": "d5IcGRDg-JY-",
        "outputId": "a26f5ae6-60dd-465d-8217-85074306f90c"
      },
      "source": [
        "data=np.arange(1,10).reshape(3,3)\n",
        "data"
      ],
      "execution_count": 48,
      "outputs": [
        {
          "output_type": "execute_result",
          "data": {
            "text/plain": [
              "array([[1, 2, 3],\n",
              "       [4, 5, 6],\n",
              "       [7, 8, 9]])"
            ]
          },
          "metadata": {},
          "execution_count": 48
        }
      ]
    },
    {
      "cell_type": "code",
      "metadata": {
        "colab": {
          "base_uri": "https://localhost:8080/"
        },
        "id": "9TCW7pRS9sVJ",
        "outputId": "0146bb3e-d663-487a-e098-e154a7e7089d"
      },
      "source": [
        "np.dot(data,data)"
      ],
      "execution_count": 49,
      "outputs": [
        {
          "output_type": "execute_result",
          "data": {
            "text/plain": [
              "array([[ 30,  36,  42],\n",
              "       [ 66,  81,  96],\n",
              "       [102, 126, 150]])"
            ]
          },
          "metadata": {},
          "execution_count": 49
        }
      ]
    },
    {
      "cell_type": "code",
      "metadata": {
        "colab": {
          "base_uri": "https://localhost:8080/"
        },
        "id": "pemNEC6a90g7",
        "outputId": "3c5ff120-2306-4a7a-f5f8-460e480b3ac0"
      },
      "source": [
        "data @ data"
      ],
      "execution_count": 50,
      "outputs": [
        {
          "output_type": "execute_result",
          "data": {
            "text/plain": [
              "array([[ 30,  36,  42],\n",
              "       [ 66,  81,  96],\n",
              "       [102, 126, 150]])"
            ]
          },
          "metadata": {},
          "execution_count": 50
        }
      ]
    },
    {
      "cell_type": "markdown",
      "metadata": {
        "id": "BYP2JOFz_0m-"
      },
      "source": [
        "## 차원"
      ]
    },
    {
      "cell_type": "markdown",
      "metadata": {
        "id": "dHLWesL3CNpm"
      },
      "source": [
        "*  대괄호의 개수로 차원을 파악\n",
        "* .shape( ) 행렬의 차원을 출력\n",
        "* .ndim( ) 차원을 출력 2D,3D "
      ]
    },
    {
      "cell_type": "markdown",
      "metadata": {
        "id": "89e34LtxAPL8"
      },
      "source": [
        "### 0차원 : Scalar (하나의 데이터 값으로만 존재하는 것)"
      ]
    },
    {
      "cell_type": "code",
      "metadata": {
        "colab": {
          "base_uri": "https://localhost:8080/"
        },
        "id": "uadrrJhW_5sS",
        "outputId": "8f6a8d3e-0983-485a-f58f-d6018342af98"
      },
      "source": [
        "a=np.array(1)\n",
        "a"
      ],
      "execution_count": 51,
      "outputs": [
        {
          "output_type": "execute_result",
          "data": {
            "text/plain": [
              "array(1)"
            ]
          },
          "metadata": {},
          "execution_count": 51
        }
      ]
    },
    {
      "cell_type": "code",
      "metadata": {
        "colab": {
          "base_uri": "https://localhost:8080/"
        },
        "id": "bsZGqS1XAC0W",
        "outputId": "4b3d5e8f-e7d0-4dcf-e726-55dfa25ab4f0"
      },
      "source": [
        "a.shape #행렬의 차원"
      ],
      "execution_count": 54,
      "outputs": [
        {
          "output_type": "execute_result",
          "data": {
            "text/plain": [
              "()"
            ]
          },
          "metadata": {},
          "execution_count": 54
        }
      ]
    },
    {
      "cell_type": "code",
      "metadata": {
        "colab": {
          "base_uri": "https://localhost:8080/"
        },
        "id": "4zCCySRgAHiM",
        "outputId": "1a420397-0f23-4b3d-9626-c5017ab0fab0"
      },
      "source": [
        "a.ndim #차원"
      ],
      "execution_count": 55,
      "outputs": [
        {
          "output_type": "execute_result",
          "data": {
            "text/plain": [
              "0"
            ]
          },
          "metadata": {},
          "execution_count": 55
        }
      ]
    },
    {
      "cell_type": "markdown",
      "metadata": {
        "id": "Mh7HMX4hAW3O"
      },
      "source": [
        "###1차원 : Vector (숫자들의 배열 (1D array))"
      ]
    },
    {
      "cell_type": "code",
      "metadata": {
        "colab": {
          "base_uri": "https://localhost:8080/"
        },
        "id": "EFz6hsqpAi31",
        "outputId": "b8228db1-b343-4714-c27e-d18d6ec5ffbe"
      },
      "source": [
        "#예시1\n",
        "a=np.array([1])\n",
        "a"
      ],
      "execution_count": 56,
      "outputs": [
        {
          "output_type": "execute_result",
          "data": {
            "text/plain": [
              "array([1])"
            ]
          },
          "metadata": {},
          "execution_count": 56
        }
      ]
    },
    {
      "cell_type": "code",
      "metadata": {
        "colab": {
          "base_uri": "https://localhost:8080/"
        },
        "id": "PowBAm9NAtho",
        "outputId": "8b44b50c-231a-4672-ece2-404891b00549"
      },
      "source": [
        "a.shape "
      ],
      "execution_count": 58,
      "outputs": [
        {
          "output_type": "execute_result",
          "data": {
            "text/plain": [
              "(1,)"
            ]
          },
          "metadata": {},
          "execution_count": 58
        }
      ]
    },
    {
      "cell_type": "code",
      "metadata": {
        "colab": {
          "base_uri": "https://localhost:8080/"
        },
        "id": "Bpf9o-x5AvHY",
        "outputId": "58212fba-a0d6-41a6-dffe-9ef922f2ae99"
      },
      "source": [
        "a.ndim"
      ],
      "execution_count": 59,
      "outputs": [
        {
          "output_type": "execute_result",
          "data": {
            "text/plain": [
              "1"
            ]
          },
          "metadata": {},
          "execution_count": 59
        }
      ]
    },
    {
      "cell_type": "code",
      "metadata": {
        "colab": {
          "base_uri": "https://localhost:8080/"
        },
        "id": "uTe5u-OoBPyy",
        "outputId": "c3c18958-cdab-4785-d936-45ebc8d4a5f2"
      },
      "source": [
        "#예시2\n",
        "b=np.array([1,2,3,4,5])\n",
        "b"
      ],
      "execution_count": 60,
      "outputs": [
        {
          "output_type": "execute_result",
          "data": {
            "text/plain": [
              "array([1, 2, 3, 4, 5])"
            ]
          },
          "metadata": {},
          "execution_count": 60
        }
      ]
    },
    {
      "cell_type": "code",
      "metadata": {
        "colab": {
          "base_uri": "https://localhost:8080/"
        },
        "id": "1-2wY2eABPt_",
        "outputId": "4d305999-71f5-4e3c-9498-6106a5f56bef"
      },
      "source": [
        "b.shape"
      ],
      "execution_count": 61,
      "outputs": [
        {
          "output_type": "execute_result",
          "data": {
            "text/plain": [
              "(5,)"
            ]
          },
          "metadata": {},
          "execution_count": 61
        }
      ]
    },
    {
      "cell_type": "code",
      "metadata": {
        "colab": {
          "base_uri": "https://localhost:8080/"
        },
        "id": "xArzj9pyBZQN",
        "outputId": "656b120d-c8fe-45a8-fec5-bfb9a3d98f6d"
      },
      "source": [
        "b.ndim"
      ],
      "execution_count": 62,
      "outputs": [
        {
          "output_type": "execute_result",
          "data": {
            "text/plain": [
              "1"
            ]
          },
          "metadata": {},
          "execution_count": 62
        }
      ]
    },
    {
      "cell_type": "markdown",
      "metadata": {
        "id": "pLrF-PdWAXX6"
      },
      "source": [
        "### 2차원 : Matrix (숫자들의 2D array (rows: 행, columns: 열))"
      ]
    },
    {
      "cell_type": "code",
      "metadata": {
        "colab": {
          "base_uri": "https://localhost:8080/"
        },
        "id": "bq6yAmjBAjMd",
        "outputId": "9cc56eec-9a9c-4571-a0df-4148afa9af66"
      },
      "source": [
        "a = np.array([[1, 2, 3], [4, 5, 6]])\n",
        "a"
      ],
      "execution_count": 63,
      "outputs": [
        {
          "output_type": "execute_result",
          "data": {
            "text/plain": [
              "array([[1, 2, 3],\n",
              "       [4, 5, 6]])"
            ]
          },
          "metadata": {},
          "execution_count": 63
        }
      ]
    },
    {
      "cell_type": "code",
      "metadata": {
        "colab": {
          "base_uri": "https://localhost:8080/"
        },
        "id": "G7YVKbIuClH-",
        "outputId": "fe65fdc9-755a-4435-ad0f-1e27b641422a"
      },
      "source": [
        "a.shape #2열 3행"
      ],
      "execution_count": 64,
      "outputs": [
        {
          "output_type": "execute_result",
          "data": {
            "text/plain": [
              "(2, 3)"
            ]
          },
          "metadata": {},
          "execution_count": 64
        }
      ]
    },
    {
      "cell_type": "code",
      "metadata": {
        "colab": {
          "base_uri": "https://localhost:8080/"
        },
        "id": "gC0pSVFNCm3_",
        "outputId": "054edb30-7ec7-4640-b002-2fdb3d0b1e19"
      },
      "source": [
        "a.ndim"
      ],
      "execution_count": 65,
      "outputs": [
        {
          "output_type": "execute_result",
          "data": {
            "text/plain": [
              "2"
            ]
          },
          "metadata": {},
          "execution_count": 65
        }
      ]
    },
    {
      "cell_type": "code",
      "metadata": {
        "id": "vHPuf4g2CuEu"
      },
      "source": [
        ""
      ],
      "execution_count": null,
      "outputs": []
    },
    {
      "cell_type": "markdown",
      "metadata": {
        "id": "vrwtGVXLAX3f"
      },
      "source": [
        "### 3차원 이상 : Tensor (숫자들의 다차원 배열)"
      ]
    },
    {
      "cell_type": "code",
      "metadata": {
        "colab": {
          "base_uri": "https://localhost:8080/"
        },
        "id": "W6w4BrKMAkQt",
        "outputId": "464b0f93-ecd8-4875-93ed-939d9068cd40"
      },
      "source": [
        "a = np.array([[[1, 2], [3, 4], [5, 6]], [[7, 8], [9, 10], [11, 12]]])\n",
        "a"
      ],
      "execution_count": 66,
      "outputs": [
        {
          "output_type": "execute_result",
          "data": {
            "text/plain": [
              "array([[[ 1,  2],\n",
              "        [ 3,  4],\n",
              "        [ 5,  6]],\n",
              "\n",
              "       [[ 7,  8],\n",
              "        [ 9, 10],\n",
              "        [11, 12]]])"
            ]
          },
          "metadata": {},
          "execution_count": 66
        }
      ]
    },
    {
      "cell_type": "code",
      "metadata": {
        "colab": {
          "base_uri": "https://localhost:8080/"
        },
        "id": "bYqCNQ0mC8lp",
        "outputId": "f54d5aa4-5729-46bd-a279-bd9099ad61e3"
      },
      "source": [
        "a.shape"
      ],
      "execution_count": 67,
      "outputs": [
        {
          "output_type": "execute_result",
          "data": {
            "text/plain": [
              "(2, 3, 2)"
            ]
          },
          "metadata": {},
          "execution_count": 67
        }
      ]
    },
    {
      "cell_type": "code",
      "metadata": {
        "colab": {
          "base_uri": "https://localhost:8080/"
        },
        "id": "zP3RFR-qC9q4",
        "outputId": "5666cff7-0a27-4d22-9323-7a0d3af7cc24"
      },
      "source": [
        "a.ndim"
      ],
      "execution_count": 68,
      "outputs": [
        {
          "output_type": "execute_result",
          "data": {
            "text/plain": [
              "3"
            ]
          },
          "metadata": {},
          "execution_count": 68
        }
      ]
    },
    {
      "cell_type": "markdown",
      "metadata": {
        "id": "OBRLj7AvDNf4"
      },
      "source": [
        "## matrix 유형"
      ]
    },
    {
      "cell_type": "code",
      "metadata": {
        "colab": {
          "base_uri": "https://localhost:8080/"
        },
        "id": "EUqSA9wODRop",
        "outputId": "2dac7f89-a561-4e7e-acff-895307aab43d"
      },
      "source": [
        "a = np.arange(12).reshape(2,3,2)\n",
        "a"
      ],
      "execution_count": 71,
      "outputs": [
        {
          "output_type": "execute_result",
          "data": {
            "text/plain": [
              "array([[[ 0,  1],\n",
              "        [ 2,  3],\n",
              "        [ 4,  5]],\n",
              "\n",
              "       [[ 6,  7],\n",
              "        [ 8,  9],\n",
              "        [10, 11]]])"
            ]
          },
          "metadata": {},
          "execution_count": 71
        }
      ]
    },
    {
      "cell_type": "markdown",
      "metadata": {
        "id": "GAR9G4n7DvkP"
      },
      "source": [
        "### zeros : 0으로 초기화된 배열 생성"
      ]
    },
    {
      "cell_type": "code",
      "metadata": {
        "colab": {
          "base_uri": "https://localhost:8080/"
        },
        "id": "ujSsSo0pDvTn",
        "outputId": "c3d8dd69-e8f7-415f-f7b8-bb1b6643572c"
      },
      "source": [
        "c= np.zeros(12).reshape(2,3,2)\n",
        "c"
      ],
      "execution_count": 76,
      "outputs": [
        {
          "output_type": "execute_result",
          "data": {
            "text/plain": [
              "array([[[0., 0.],\n",
              "        [0., 0.],\n",
              "        [0., 0.]],\n",
              "\n",
              "       [[0., 0.],\n",
              "        [0., 0.],\n",
              "        [0., 0.]]])"
            ]
          },
          "metadata": {},
          "execution_count": 76
        }
      ]
    },
    {
      "cell_type": "code",
      "metadata": {
        "colab": {
          "base_uri": "https://localhost:8080/"
        },
        "id": "TOFkF-1PFq3c",
        "outputId": "cd2da841-1106-4f59-c1dd-d495cc2c91a5"
      },
      "source": [
        "e=np.zeros([2,3,2])\n",
        "e"
      ],
      "execution_count": 92,
      "outputs": [
        {
          "output_type": "execute_result",
          "data": {
            "text/plain": [
              "array([[[0., 0.],\n",
              "        [0., 0.],\n",
              "        [0., 0.]],\n",
              "\n",
              "       [[0., 0.],\n",
              "        [0., 0.],\n",
              "        [0., 0.]]])"
            ]
          },
          "metadata": {},
          "execution_count": 92
        }
      ]
    },
    {
      "cell_type": "code",
      "metadata": {
        "colab": {
          "base_uri": "https://localhost:8080/"
        },
        "id": "cBTuWCDLF0Qc",
        "outputId": "d414fa34-c45f-4ea5-f887-b2550b453578"
      },
      "source": [
        "if a.all()==e.all(): \n",
        "  print('True')"
      ],
      "execution_count": 85,
      "outputs": [
        {
          "output_type": "stream",
          "name": "stdout",
          "text": [
            "True\n"
          ]
        }
      ]
    },
    {
      "cell_type": "code",
      "metadata": {
        "colab": {
          "base_uri": "https://localhost:8080/"
        },
        "id": "DsUuw0EeGfYn",
        "outputId": "317c0321-294e-4e04-c73d-c2e83d6b4ab9"
      },
      "source": [
        "np.array_equal(a,e)"
      ],
      "execution_count": 86,
      "outputs": [
        {
          "output_type": "execute_result",
          "data": {
            "text/plain": [
              "False"
            ]
          },
          "metadata": {},
          "execution_count": 86
        }
      ]
    },
    {
      "cell_type": "markdown",
      "metadata": {
        "id": "r544YgIRDmx2"
      },
      "source": [
        "### ones  : 1로 초기화 된 배열 생성"
      ]
    },
    {
      "cell_type": "code",
      "metadata": {
        "colab": {
          "base_uri": "https://localhost:8080/"
        },
        "id": "wZmiQG2cDhbF",
        "outputId": "dfdd7d32-b46e-4109-c0b3-84643130beee"
      },
      "source": [
        "b = np.ones(12).reshape(2, 3, 2)\n",
        "b"
      ],
      "execution_count": 73,
      "outputs": [
        {
          "output_type": "execute_result",
          "data": {
            "text/plain": [
              "array([[[1., 1.],\n",
              "        [1., 1.],\n",
              "        [1., 1.]],\n",
              "\n",
              "       [[1., 1.],\n",
              "        [1., 1.],\n",
              "        [1., 1.]]])"
            ]
          },
          "metadata": {},
          "execution_count": 73
        }
      ]
    },
    {
      "cell_type": "markdown",
      "metadata": {
        "id": "g9svtBmUDtjn"
      },
      "source": [
        "### 단위 행렬 np.eye( ) \n",
        "\n",
        "* 주대각선의 원소가 모두 1이고 나머지 원소는 0인 정사각행렬 (단위행렬)"
      ]
    },
    {
      "cell_type": "markdown",
      "metadata": {
        "id": "7rrNZBYLEXwt"
      },
      "source": [
        "단위 행렬은 n차 정사각행렬 중에서 왼쪽 위에서 오른쪽 아래로의 대각선(↘) 위의 성분이 모두 1, \n",
        "\n",
        "그 이외의 성분은 모두 0인 행렬을 n차 단위행렬이라고 하고,\n",
        "기호로 E 또는 I로 나타낸다."
      ]
    },
    {
      "cell_type": "code",
      "metadata": {
        "colab": {
          "base_uri": "https://localhost:8080/"
        },
        "id": "uBRmMgTkEMll",
        "outputId": "bba0112f-cd0e-4225-cfd9-7d661a0ef5d5"
      },
      "source": [
        "d= np.eye(3)\n",
        "d"
      ],
      "execution_count": 90,
      "outputs": [
        {
          "output_type": "execute_result",
          "data": {
            "text/plain": [
              "array([[1., 0., 0.],\n",
              "       [0., 1., 0.],\n",
              "       [0., 0., 1.]])"
            ]
          },
          "metadata": {},
          "execution_count": 90
        }
      ]
    },
    {
      "cell_type": "markdown",
      "metadata": {
        "id": "KU1YP5ivEQHb"
      },
      "source": [
        "### empty : 초기화 하지 않고 배열만 생성, 기존에 메모리에 저장되어 있는 값으로 나타남"
      ]
    },
    {
      "cell_type": "code",
      "metadata": {
        "colab": {
          "base_uri": "https://localhost:8080/"
        },
        "id": "dNkcJ3WlJ2cd",
        "outputId": "41332535-5649-45ba-9b83-6f61802b5dbc"
      },
      "source": [
        "f= np.empty([2, 3])\n",
        "f"
      ],
      "execution_count": 93,
      "outputs": [
        {
          "output_type": "execute_result",
          "data": {
            "text/plain": [
              "array([[1., 2., 3.],\n",
              "       [4., 5., 6.]])"
            ]
          },
          "metadata": {},
          "execution_count": 93
        }
      ]
    },
    {
      "cell_type": "markdown",
      "metadata": {
        "id": "KIxJmBLYJf1B"
      },
      "source": [
        "### full : 지정한 숫자로 초기화\n",
        "\n",
        "* np.full((행,열), 채울 숫자)"
      ]
    },
    {
      "cell_type": "code",
      "metadata": {
        "colab": {
          "base_uri": "https://localhost:8080/"
        },
        "id": "Ymwz8CIlKdlP",
        "outputId": "4c7e509d-039a-4b57-b161-ab2c0083c80d"
      },
      "source": [
        "g = np.full((3,4),1000)\n",
        "g"
      ],
      "execution_count": 94,
      "outputs": [
        {
          "output_type": "execute_result",
          "data": {
            "text/plain": [
              "array([[1000, 1000, 1000, 1000],\n",
              "       [1000, 1000, 1000, 1000],\n",
              "       [1000, 1000, 1000, 1000]])"
            ]
          },
          "metadata": {},
          "execution_count": 94
        }
      ]
    },
    {
      "cell_type": "markdown",
      "metadata": {
        "id": "LX-vKyDfJfyX"
      },
      "source": [
        "### linspace(start, end(포함), number, endpoint = ) : 선형 구간을 지정한 개수만큼 분할한다."
      ]
    },
    {
      "cell_type": "markdown",
      "metadata": {
        "id": "43CKs65xJfwB"
      },
      "source": [
        " * np.linspace( 시작, 끝, 몇 개를 생성할지)\n",
        "  - 시작과 끝은 포함한다\n",
        "  * endpoint = True or False : 마지막 값을 포함시킬지 시키지 않을지 선택"
      ]
    },
    {
      "cell_type": "code",
      "metadata": {
        "colab": {
          "base_uri": "https://localhost:8080/"
        },
        "id": "S2OnslvqKuTe",
        "outputId": "4a318914-f4ea-469e-ba78-414b9de41e9f"
      },
      "source": [
        "h= np.linspace(2,10,6)\n",
        "h"
      ],
      "execution_count": 97,
      "outputs": [
        {
          "output_type": "execute_result",
          "data": {
            "text/plain": [
              "array([ 2. ,  3.6,  5.2,  6.8,  8.4, 10. ])"
            ]
          },
          "metadata": {},
          "execution_count": 97
        }
      ]
    },
    {
      "cell_type": "markdown",
      "metadata": {
        "id": "-oywqSmpLReX"
      },
      "source": [
        "##집계함수"
      ]
    },
    {
      "cell_type": "markdown",
      "metadata": {
        "id": "o6QgrN4YJff-"
      },
      "source": [
        "- mean : 평균을 구하는 함수\n",
        "- median : 데이터를 크기로 정렬하고 그 중 가운데 수 출력하는 함수\n",
        "    \n",
        "    ※ 만약 데이터 개수가 짝수일 경우 가장 가운데의 두 수의 평균을 구한다.\n",
        "    \n",
        "- var : 분산 구하는 함수\n",
        "- std : 표준편차 구하는 함수\n",
        "- sum : 합계 구하는 함수\n",
        "- max : 가장 큰 수를 구하는 함수\n",
        "- min : 가장 작은 수를 구하는 함수"
      ]
    },
    {
      "cell_type": "code",
      "metadata": {
        "colab": {
          "base_uri": "https://localhost:8080/"
        },
        "id": "TH1WJikzJexK",
        "outputId": "3a20079d-5058-4ee4-95b8-b5104a0c3f98"
      },
      "source": [
        "a=np.arange(10).reshape(2,5)\n",
        "a"
      ],
      "execution_count": 98,
      "outputs": [
        {
          "output_type": "execute_result",
          "data": {
            "text/plain": [
              "array([[0, 1, 2, 3, 4],\n",
              "       [5, 6, 7, 8, 9]])"
            ]
          },
          "metadata": {},
          "execution_count": 98
        }
      ]
    },
    {
      "cell_type": "code",
      "metadata": {
        "colab": {
          "base_uri": "https://localhost:8080/"
        },
        "id": "b_XUx8ItM6XY",
        "outputId": "a10c2cab-b184-41ec-96c5-3c1b38989edd"
      },
      "source": [
        "a[0][0]= 100 # 동일한 식: a[0,1]= 100\n",
        "a"
      ],
      "execution_count": 108,
      "outputs": [
        {
          "output_type": "execute_result",
          "data": {
            "text/plain": [
              "array([[100,   1,   2,   3,   4],\n",
              "       [  5,   6,   7,   8,   9]])"
            ]
          },
          "metadata": {},
          "execution_count": 108
        }
      ]
    },
    {
      "cell_type": "code",
      "metadata": {
        "colab": {
          "base_uri": "https://localhost:8080/"
        },
        "id": "a6mR4JmoOrt_",
        "outputId": "e47842b4-5eea-4672-ddb0-9532e16dbfbe"
      },
      "source": [
        "a[0,1]= 1000\n",
        "a"
      ],
      "execution_count": 109,
      "outputs": [
        {
          "output_type": "execute_result",
          "data": {
            "text/plain": [
              "array([[ 100, 1000,    2,    3,    4],\n",
              "       [   5,    6,    7,    8,    9]])"
            ]
          },
          "metadata": {},
          "execution_count": 109
        }
      ]
    },
    {
      "cell_type": "code",
      "metadata": {
        "colab": {
          "base_uri": "https://localhost:8080/"
        },
        "id": "3BXRQY8VOp_C",
        "outputId": "384de839-3f83-4b68-851d-b26c4a4ddd20"
      },
      "source": [
        "np.mean(a) #평균"
      ],
      "execution_count": 110,
      "outputs": [
        {
          "output_type": "execute_result",
          "data": {
            "text/plain": [
              "114.4"
            ]
          },
          "metadata": {},
          "execution_count": 110
        }
      ]
    },
    {
      "cell_type": "code",
      "metadata": {
        "colab": {
          "base_uri": "https://localhost:8080/"
        },
        "id": "LMkvbCv0O_it",
        "outputId": "b2e44d98-83a4-433b-8b14-bd6dadeb773c"
      },
      "source": [
        "np.median(a) #중간값"
      ],
      "execution_count": 111,
      "outputs": [
        {
          "output_type": "execute_result",
          "data": {
            "text/plain": [
              "6.5"
            ]
          },
          "metadata": {},
          "execution_count": 111
        }
      ]
    },
    {
      "cell_type": "code",
      "metadata": {
        "colab": {
          "base_uri": "https://localhost:8080/"
        },
        "id": "cfj2X1IvPB-u",
        "outputId": "4a45f461-fcf6-4495-f5d0-808f24ae6643"
      },
      "source": [
        "np.std(a) #표준편차"
      ],
      "execution_count": 112,
      "outputs": [
        {
          "output_type": "execute_result",
          "data": {
            "text/plain": [
              "296.5485457728633"
            ]
          },
          "metadata": {},
          "execution_count": 112
        }
      ]
    },
    {
      "cell_type": "code",
      "metadata": {
        "colab": {
          "base_uri": "https://localhost:8080/"
        },
        "id": "JEcPeFaoOoHI",
        "outputId": "6904ca37-b714-4867-d0db-e18ebeb2632e"
      },
      "source": [
        "np.var(a) #분산"
      ],
      "execution_count": 113,
      "outputs": [
        {
          "output_type": "execute_result",
          "data": {
            "text/plain": [
              "87941.04"
            ]
          },
          "metadata": {},
          "execution_count": 113
        }
      ]
    },
    {
      "cell_type": "code",
      "metadata": {
        "colab": {
          "base_uri": "https://localhost:8080/"
        },
        "id": "M75x3E2WPIm7",
        "outputId": "e54a99fb-36fa-494e-a01a-a0afdd78d5b0"
      },
      "source": [
        "np.sum(a) #합계"
      ],
      "execution_count": 114,
      "outputs": [
        {
          "output_type": "execute_result",
          "data": {
            "text/plain": [
              "1144"
            ]
          },
          "metadata": {},
          "execution_count": 114
        }
      ]
    },
    {
      "cell_type": "code",
      "metadata": {
        "colab": {
          "base_uri": "https://localhost:8080/"
        },
        "id": "ot7xGjMfOiPg",
        "outputId": "61a99132-4c14-462a-fa8c-70ccacd7c088"
      },
      "source": [
        "sum(a)  #비교!!!! 행과 행끼리 더해짐"
      ],
      "execution_count": 117,
      "outputs": [
        {
          "output_type": "execute_result",
          "data": {
            "text/plain": [
              "array([ 105, 1006,    9,   11,   13])"
            ]
          },
          "metadata": {},
          "execution_count": 117
        }
      ]
    },
    {
      "cell_type": "code",
      "metadata": {
        "colab": {
          "base_uri": "https://localhost:8080/"
        },
        "id": "dlrlKeN-OgQ3",
        "outputId": "13c50b0f-6cd9-4723-a67c-42035372d98d"
      },
      "source": [
        "np.sum(a,axis=0)"
      ],
      "execution_count": 119,
      "outputs": [
        {
          "output_type": "execute_result",
          "data": {
            "text/plain": [
              "array([ 105, 1006,    9,   11,   13])"
            ]
          },
          "metadata": {},
          "execution_count": 119
        }
      ]
    },
    {
      "cell_type": "code",
      "metadata": {
        "id": "E-BTBfRPP_gP"
      },
      "source": [
        "np.sum"
      ],
      "execution_count": null,
      "outputs": []
    }
  ]
}